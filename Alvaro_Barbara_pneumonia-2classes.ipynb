{
 "cells": [
  {
   "cell_type": "code",
   "execution_count": 2,
   "metadata": {
    "colab": {
     "base_uri": "https://localhost:8080/",
     "height": 96
    },
    "colab_type": "code",
    "executionInfo": {
     "elapsed": 2802,
     "status": "ok",
     "timestamp": 1577205876140,
     "user": {
      "displayName": "Ana Laguna Pradas",
      "photoUrl": "https://lh3.googleusercontent.com/a-/AAuE7mBSGptTK-p_QVjyTUyfgnUmNBGxmgf1siaiZ-4m=s64",
      "userId": "04586459829917851529"
     },
     "user_tz": -60
    },
    "id": "jSVHMO8pyvCZ",
    "outputId": "b3a90414-0428-4756-fedc-21d0529eefc2"
   },
   "outputs": [
    {
     "data": {
      "text/plain": [
       "'2.3.1'"
      ]
     },
     "execution_count": 2,
     "metadata": {},
     "output_type": "execute_result"
    }
   ],
   "source": [
    "import keras\n",
    "keras.__version__"
   ]
  },
  {
   "cell_type": "code",
   "execution_count": 3,
   "metadata": {
    "colab": {},
    "colab_type": "code",
    "id": "p2WXH9kAyvDS"
   },
   "outputs": [],
   "source": [
    "import os, shutil"
   ]
  },
  {
   "cell_type": "code",
   "execution_count": 19,
   "metadata": {},
   "outputs": [],
   "source": [
    "make_dir = lambda x : os.mkdir(x) if not os.path.exists(x) else ''"
   ]
  },
  {
   "cell_type": "code",
   "execution_count": 18,
   "metadata": {},
   "outputs": [
    {
     "data": {
      "text/plain": [
       "''"
      ]
     },
     "execution_count": 18,
     "metadata": {},
     "output_type": "execute_result"
    }
   ],
   "source": [
    "make_dir(test_pneumoniaBacteria_dir)"
   ]
  },
  {
   "cell_type": "code",
   "execution_count": 24,
   "metadata": {
    "colab": {},
    "colab_type": "code",
    "id": "J2eHQXe7yvDY"
   },
   "outputs": [],
   "source": [
    "# The path to the directory where the original\n",
    "# dataset was uncompressed\n",
    "\n",
    "# The directory where we will\n",
    "# store our smaller dataset\n",
    "base_dir = 'chest_xray'#'/Users/fchollet/Downloads/cats_and_dogs_small'\n",
    "\n",
    "# Directories for our training,\n",
    "# validation and test splits\n",
    "train_dir = os.path.join(base_dir, 'train')\n",
    "validation_dir = os.path.join(base_dir, 'val')\n",
    "test_dir = os.path.join(base_dir, 'test')\n",
    "\n",
    "# Directory with our training\n",
    "train_normal_dir = os.path.join(train_dir, 'NORMAL')\n",
    "train_pneumonia_dir = os.path.join(train_dir, 'PNEUMONIA')\n",
    "#train_pneumoniaVirus_dir = os.path.join(train_dir, 'pneumoniaVirus')\n",
    "#train_pneumoniaBacteria_dir = os.path.join(train_dir, 'pneumoniaBacteria')\n",
    "\n",
    "# Directory with our test cat pictures\n",
    "test_normal_dir = os.path.join(test_dir, 'NORMAL')\n",
    "test_pneumonia_dir = os.path.join(test_dir, 'PNEUMONIA')\n",
    "#test_pneumoniaVirus_dir = os.path.join(test_dir, 'pneumoniaVirus')\n",
    "#test_pneumoniaBacteria_dir = os.path.join(test_dir, 'pneumoniaBacteria')\n",
    "                                        \n",
    "# Directory with our validation \n",
    "validation_normal_dir = os.path.join(validation_dir, 'NORMAL')\n",
    "validation_pneumonia_dir = os.path.join(validation_dir, 'PNEUMONIA')\n",
    "#validation_pneumoniaVirus_dir = os.path.join(validation_dir, 'pneumoniaVirus')\n",
    "#validation_pneumoniaBacteria_dir = os.path.join(validation_dir, 'pneumoniaBacteria')\n"
   ]
  },
  {
   "cell_type": "code",
   "execution_count": 25,
   "metadata": {},
   "outputs": [],
   "source": [
    "dirContentV = []\n",
    "dirContentB = []"
   ]
  },
  {
   "cell_type": "code",
   "execution_count": 22,
   "metadata": {},
   "outputs": [],
   "source": [
    "def move(src, dest):\n",
    "    if ('pneumoniaVirus' not in dest):\n",
    "        shutil.copy(src,dest)\n",
    "    elif ('pneumoniaBacteria' not in dest):\n",
    "        shutil.copy(src, dest)\n",
    "        "
   ]
  },
  {
   "cell_type": "code",
   "execution_count": 23,
   "metadata": {
    "collapsed": true,
    "jupyter": {
     "outputs_hidden": true
    }
   },
   "outputs": [
    {
     "ename": "FileNotFoundError",
     "evalue": "[WinError 3] El sistema no puede encontrar la ruta especificada: 'chest_xray\\\\train\\\\pneumoniaVirus'",
     "output_type": "error",
     "traceback": [
      "\u001b[1;31m---------------------------------------------------------------------------\u001b[0m",
      "\u001b[1;31mFileNotFoundError\u001b[0m                         Traceback (most recent call last)",
      "\u001b[1;32m<ipython-input-23-8b09202eb31e>\u001b[0m in \u001b[0;36m<module>\u001b[1;34m\u001b[0m\n\u001b[0;32m      1\u001b[0m \u001b[1;31m# split pneumonia i virus and bacteria\u001b[0m\u001b[1;33m\u001b[0m\u001b[1;33m\u001b[0m\u001b[1;33m\u001b[0m\u001b[0m\n\u001b[0;32m      2\u001b[0m \u001b[1;31m# train\u001b[0m\u001b[1;33m\u001b[0m\u001b[1;33m\u001b[0m\u001b[1;33m\u001b[0m\u001b[0m\n\u001b[1;32m----> 3\u001b[1;33m \u001b[0mdirContentV\u001b[0m \u001b[1;33m=\u001b[0m \u001b[0mos\u001b[0m\u001b[1;33m.\u001b[0m\u001b[0mlistdir\u001b[0m\u001b[1;33m(\u001b[0m\u001b[0mtrain_pneumoniaVirus_dir\u001b[0m\u001b[1;33m)\u001b[0m\u001b[1;33m\u001b[0m\u001b[1;33m\u001b[0m\u001b[0m\n\u001b[0m\u001b[0;32m      4\u001b[0m \u001b[0mdirContentB\u001b[0m \u001b[1;33m=\u001b[0m \u001b[0mos\u001b[0m\u001b[1;33m.\u001b[0m\u001b[0mlistdir\u001b[0m\u001b[1;33m(\u001b[0m\u001b[0mtrain_pneumoniaBacteria_dir\u001b[0m\u001b[1;33m)\u001b[0m\u001b[1;33m\u001b[0m\u001b[1;33m\u001b[0m\u001b[0m\n\u001b[0;32m      5\u001b[0m \u001b[1;32mfor\u001b[0m \u001b[0mf\u001b[0m \u001b[1;32min\u001b[0m \u001b[0mos\u001b[0m\u001b[1;33m.\u001b[0m\u001b[0mlistdir\u001b[0m\u001b[1;33m(\u001b[0m\u001b[0mtrain_pneumonia_dir\u001b[0m\u001b[1;33m)\u001b[0m\u001b[1;33m:\u001b[0m\u001b[1;33m\u001b[0m\u001b[1;33m\u001b[0m\u001b[0m\n",
      "\u001b[1;31mFileNotFoundError\u001b[0m: [WinError 3] El sistema no puede encontrar la ruta especificada: 'chest_xray\\\\train\\\\pneumoniaVirus'"
     ]
    }
   ],
   "source": [
    "# split pneumonia i virus and bacteria\n",
    "# train\n",
    "dirContentV = os.listdir(train_pneumoniaVirus_dir)\n",
    "dirContentB = os.listdir(train_pneumoniaBacteria_dir)\n",
    "for f in os.listdir(train_pneumonia_dir):\n",
    "    if('virus' in f):\n",
    "        move(os.path.join(train_pneumonia_dir,f),train_pneumoniaVirus_dir)\n",
    "    elif('bacteria' in f):\n",
    "        move(os.path.join(train_pneumonia_dir,f),train_pneumoniaBacteria_dir)\n",
    "\n",
    "#test\n",
    "dirContentV = os.listdir(test_pneumoniaVirus_dir)\n",
    "dirContentB = os.listdir(test_pneumoniaBacteria_dir)\n",
    "for f in os.listdir(test_pneumonia_dir):\n",
    "    if('virus' in f):\n",
    "        move(os.path.join(test_pneumonia_dir,f),test_pneumoniaVirus_dir)\n",
    "    elif('bacteria' in f):\n",
    "        move(os.path.join(test_pneumonia_dir,f),test_pneumoniaBacteria_dir)\n",
    "\n",
    "#val\n",
    "dirContentV = os.listdir(validation_pneumoniaVirus_dir)\n",
    "dirContentB = os.listdir(validation_pneumoniaBacteria_dir)\n",
    "for f in os.listdir(validation_pneumonia_dir):\n",
    "    if('virus' in f):\n",
    "        move(os.path.join(validation_pneumonia_dir,f),validation_pneumoniaVirus_dir)\n",
    "    elif('bacteria' in f):\n",
    "        move(os.path.join(validation_pneumonia_dir,f),validation_pneumoniaBacteria_dir)\n"
   ]
  },
  {
   "cell_type": "markdown",
   "metadata": {
    "colab_type": "text",
    "id": "hvu38JC4yvD_"
   },
   "source": [
    "As a sanity check, let's count how many pictures we have in each training split (train/validation/test):"
   ]
  },
  {
   "cell_type": "code",
   "execution_count": 26,
   "metadata": {
    "colab": {},
    "colab_type": "code",
    "id": "OgaUDoP0yvED",
    "outputId": "73e5e171-6616-4a22-9c81-e97960add857"
   },
   "outputs": [
    {
     "name": "stdout",
     "output_type": "stream",
     "text": [
      "total training normal images: 1342\n"
     ]
    }
   ],
   "source": [
    "print('total training normal images:', len(os.listdir(train_normal_dir)))"
   ]
  },
  {
   "cell_type": "code",
   "execution_count": 27,
   "metadata": {
    "colab": {},
    "colab_type": "code",
    "id": "omKHc7vkyvEa",
    "outputId": "f83149ec-4478-48e6-9ebc-e2562f1c322f"
   },
   "outputs": [
    {
     "name": "stdout",
     "output_type": "stream",
     "text": [
      "total training pneumonia images: 3876\n"
     ]
    }
   ],
   "source": [
    "print('total training pneumonia images:', len(os.listdir(train_pneumonia_dir)))"
   ]
  },
  {
   "cell_type": "code",
   "execution_count": 28,
   "metadata": {
    "colab": {},
    "colab_type": "code",
    "id": "wy8p_D1wyvFw",
    "outputId": "d6ad51ca-06ff-42a1-8165-8f36ed9aeb33"
   },
   "outputs": [
    {
     "name": "stdout",
     "output_type": "stream",
     "text": [
      "total validation normal images: 9\n"
     ]
    }
   ],
   "source": [
    "print('total validation normal images:', len(os.listdir(validation_normal_dir)))"
   ]
  },
  {
   "cell_type": "code",
   "execution_count": 29,
   "metadata": {
    "colab": {},
    "colab_type": "code",
    "id": "rvTVwgOuyvG1",
    "outputId": "1a5763e5-5db7-40ed-fc97-28bc37e55456"
   },
   "outputs": [
    {
     "name": "stdout",
     "output_type": "stream",
     "text": [
      "total validation pneumonia images: 9\n"
     ]
    }
   ],
   "source": [
    "print('total validation pneumonia images:', len(os.listdir(validation_pneumonia_dir)))"
   ]
  },
  {
   "cell_type": "code",
   "execution_count": 30,
   "metadata": {
    "colab": {},
    "colab_type": "code",
    "id": "ThGdUnzvyvH1",
    "outputId": "e267879a-d6b7-41ec-f7b9-b33f1543e045"
   },
   "outputs": [
    {
     "name": "stdout",
     "output_type": "stream",
     "text": [
      "total test normal images: 234\n"
     ]
    }
   ],
   "source": [
    "print('total test normal images:', len(os.listdir(test_normal_dir)))"
   ]
  },
  {
   "cell_type": "code",
   "execution_count": 31,
   "metadata": {
    "colab": {},
    "colab_type": "code",
    "id": "Qybb39cGyvIV",
    "outputId": "002e56ea-11f5-4405-de6d-fef110837050"
   },
   "outputs": [
    {
     "name": "stdout",
     "output_type": "stream",
     "text": [
      "total test pneumonia images: 390\n"
     ]
    }
   ],
   "source": [
    "print('total test pneumonia images:', len(os.listdir(test_pneumonia_dir)))"
   ]
  },
  {
   "cell_type": "markdown",
   "metadata": {
    "colab_type": "text",
    "id": "EKakZCwtyvIv"
   },
   "source": [
    "\n",
    "So we have indeed 2000 training images, and then 1000 validation images and 1000 test images. In each split, there is the same number of \n",
    "samples from each class: this is a balanced binary classification problem, which means that classification accuracy will be an appropriate \n",
    "measure of success."
   ]
  },
  {
   "cell_type": "code",
   "execution_count": 38,
   "metadata": {
    "colab": {},
    "colab_type": "code",
    "id": "s38O3n7-yvJJ"
   },
   "outputs": [],
   "source": [
    "from keras import layers\n",
    "from keras import models\n",
    "\n",
    "model = models.Sequential()\n",
    "model.add(layers.Conv2D(32, (3, 3), activation='relu',\n",
    "                        input_shape=(200, 200, 3)))\n",
    "model.add(layers.MaxPooling2D((2, 2)))\n",
    "model.add(layers.Flatten())\n",
    "model.add(layers.Dense(512, activation='relu'))\n",
    "model.add(layers.Dense(1, activation='sigmoid'))"
   ]
  },
  {
   "cell_type": "markdown",
   "metadata": {
    "colab_type": "text",
    "id": "n8o8SMTKyvJa"
   },
   "source": [
    "Let's take a look at how the dimensions of the feature maps change with every successive layer:"
   ]
  },
  {
   "cell_type": "code",
   "execution_count": 39,
   "metadata": {
    "colab": {},
    "colab_type": "code",
    "id": "9UQ9zTFRyvJb",
    "outputId": "f788d9eb-6b92-4306-e6d9-59bf88f7060f"
   },
   "outputs": [
    {
     "name": "stdout",
     "output_type": "stream",
     "text": [
      "Model: \"sequential_2\"\n",
      "_________________________________________________________________\n",
      "Layer (type)                 Output Shape              Param #   \n",
      "=================================================================\n",
      "conv2d_2 (Conv2D)            (None, 198, 198, 32)      896       \n",
      "_________________________________________________________________\n",
      "max_pooling2d_2 (MaxPooling2 (None, 99, 99, 32)        0         \n",
      "_________________________________________________________________\n",
      "flatten_2 (Flatten)          (None, 313632)            0         \n",
      "_________________________________________________________________\n",
      "dense_3 (Dense)              (None, 512)               160580096 \n",
      "_________________________________________________________________\n",
      "dense_4 (Dense)              (None, 1)                 513       \n",
      "=================================================================\n",
      "Total params: 160,581,505\n",
      "Trainable params: 160,581,505\n",
      "Non-trainable params: 0\n",
      "_________________________________________________________________\n"
     ]
    }
   ],
   "source": [
    "model.summary()"
   ]
  },
  {
   "cell_type": "markdown",
   "metadata": {
    "colab_type": "text",
    "id": "sd9wS_JByvJo"
   },
   "source": [
    "For our compilation step, we'll go with the `RMSprop` optimizer as usual. Since we ended our network with a single sigmoid unit, we will \n",
    "use binary crossentropy as our loss (as a reminder, check out the table in Chapter 4, section 5 for a cheatsheet on what loss function to \n",
    "use in various situations)."
   ]
  },
  {
   "cell_type": "code",
   "execution_count": 40,
   "metadata": {
    "colab": {},
    "colab_type": "code",
    "id": "wOeZzvNTyvJp"
   },
   "outputs": [],
   "source": [
    "from keras import optimizers\n",
    "\n",
    "model.compile(loss='binary_crossentropy',\n",
    "              optimizer=optimizers.RMSprop(lr=1e-4),\n",
    "              metrics=['acc'])"
   ]
  },
  {
   "cell_type": "markdown",
   "metadata": {
    "colab_type": "text",
    "id": "VjuYGsZwyvJ3"
   },
   "source": [
    "## Data preprocessing\n",
    "\n",
    "As you already know by now, data should be formatted into appropriately pre-processed floating point tensors before being fed into our \n",
    "network. Currently, our data sits on a drive as JPEG files, so the steps for getting it into our network are roughly:\n",
    "\n",
    "* Read the picture files.\n",
    "* Decode the JPEG content to RBG grids of pixels.\n",
    "* Convert these into floating point tensors.\n",
    "* Rescale the pixel values (between 0 and 255) to the [0, 1] interval (as you know, neural networks prefer to deal with small input values).\n",
    "\n",
    "It may seem a bit daunting, but thankfully Keras has utilities to take care of these steps automatically. Keras has a module with image \n",
    "processing helper tools, located at `keras.preprocessing.image`. In particular, it contains the class `ImageDataGenerator` which allows to \n",
    "quickly set up Python generators that can automatically turn image files on disk into batches of pre-processed tensors. This is what we \n",
    "will use here."
   ]
  },
  {
   "cell_type": "code",
   "execution_count": 41,
   "metadata": {
    "colab": {},
    "colab_type": "code",
    "id": "p0Cjv_jsyvKM",
    "outputId": "f9d0b743-cca9-48d3-eacc-9887b0756092"
   },
   "outputs": [
    {
     "name": "stdout",
     "output_type": "stream",
     "text": [
      "Found 5216 images belonging to 2 classes.\n",
      "Found 16 images belonging to 2 classes.\n"
     ]
    }
   ],
   "source": [
    "from keras.preprocessing.image import ImageDataGenerator\n",
    "\n",
    "# All images will be rescaled by 1./255\n",
    "train_datagen = ImageDataGenerator(rescale=1./255)\n",
    "test_datagen = ImageDataGenerator(rescale=1./255)\n",
    "\n",
    "train_generator = train_datagen.flow_from_directory(\n",
    "        # This is the target directory\n",
    "        train_dir,\n",
    "        # All images will be resized to 150x150\n",
    "        target_size=(200, 200),\n",
    "        batch_size=20,\n",
    "        # Since we use binary_crossentropy loss, we need binary labels\n",
    "        class_mode='binary')\n",
    "\n",
    "validation_generator = test_datagen.flow_from_directory(\n",
    "        validation_dir,\n",
    "        target_size=(200, 200),\n",
    "        batch_size=20,\n",
    "        class_mode='binary')"
   ]
  },
  {
   "cell_type": "markdown",
   "metadata": {
    "colab_type": "text",
    "id": "0QC1HfHryvKr"
   },
   "source": [
    "Let's take a look at the output of one of these generators: it yields batches of 150x150 RGB images (shape `(20, 150, 150, 3)`) and binary \n",
    "labels (shape `(20,)`). 20 is the number of samples in each batch (the batch size). Note that the generator yields these batches \n",
    "indefinitely: it just loops endlessly over the images present in the target folder. For this reason, we need to `break` the iteration loop \n",
    "at some point."
   ]
  },
  {
   "cell_type": "code",
   "execution_count": 42,
   "metadata": {
    "colab": {},
    "colab_type": "code",
    "id": "zFXHzmdvyvKu",
    "outputId": "dbf881bb-a834-4008-b777-ce146dea156f"
   },
   "outputs": [
    {
     "name": "stdout",
     "output_type": "stream",
     "text": [
      "data batch shape: (20, 200, 200, 3)\n",
      "labels batch shape: (20,)\n"
     ]
    }
   ],
   "source": [
    "for data_batch, labels_batch in train_generator:\n",
    "    print('data batch shape:', data_batch.shape)\n",
    "    print('labels batch shape:', labels_batch.shape)\n",
    "    break"
   ]
  },
  {
   "cell_type": "markdown",
   "metadata": {
    "colab_type": "text",
    "id": "TiTwYb6WyvK8"
   },
   "source": [
    "Let's fit our model to the data using the generator. We do it using the `fit_generator` method, the equivalent of `fit` for data generators \n",
    "like ours. It expects as first argument a Python generator that will yield batches of inputs and targets indefinitely, like ours does. \n",
    "Because the data is being generated endlessly, the generator needs to know example how many samples to draw from the generator before \n",
    "declaring an epoch over. This is the role of the `steps_per_epoch` argument: after having drawn `steps_per_epoch` batches from the \n",
    "generator, i.e. after having run for `steps_per_epoch` gradient descent steps, the fitting process will go to the next epoch. In our case, \n",
    "batches are 20-sample large, so it will take 100 batches until we see our target of 2000 samples.\n",
    "\n",
    "When using `fit_generator`, one may pass a `validation_data` argument, much like with the `fit` method. Importantly, this argument is \n",
    "allowed to be a data generator itself, but it could be a tuple of Numpy arrays as well. If you pass a generator as `validation_data`, then \n",
    "this generator is expected to yield batches of validation data endlessly, and thus you should also specify the `validation_steps` argument, \n",
    "which tells the process how many batches to draw from the validation generator for evaluation."
   ]
  },
  {
   "cell_type": "code",
   "execution_count": 43,
   "metadata": {
    "colab": {},
    "colab_type": "code",
    "id": "sPsPz5A9yvLC",
    "outputId": "ca4be9b8-723f-43c9-ce11-2fb20508619f"
   },
   "outputs": [
    {
     "name": "stdout",
     "output_type": "stream",
     "text": [
      "Epoch 1/20\n",
      "100/100 [==============================] - 246s 2s/step - loss: 0.7028 - acc: 0.7645 - val_loss: 0.5027 - val_acc: 0.6875\n",
      "Epoch 2/20\n",
      "100/100 [==============================] - 220s 2s/step - loss: 0.3095 - acc: 0.8625 - val_loss: 0.3363 - val_acc: 0.8750\n",
      "Epoch 3/20\n",
      "100/100 [==============================] - 218s 2s/step - loss: 0.2268 - acc: 0.9018 - val_loss: 0.5312 - val_acc: 0.6875\n",
      "Epoch 4/20\n",
      "100/100 [==============================] - 215s 2s/step - loss: 0.1656 - acc: 0.9395 - val_loss: 1.2949 - val_acc: 0.6250\n",
      "Epoch 5/20\n",
      "100/100 [==============================] - 218s 2s/step - loss: 0.1437 - acc: 0.9450 - val_loss: 0.6421 - val_acc: 0.6250\n",
      "Epoch 6/20\n",
      "100/100 [==============================] - 220s 2s/step - loss: 0.1207 - acc: 0.9545 - val_loss: 0.7861 - val_acc: 0.6250\n",
      "Epoch 7/20\n",
      "100/100 [==============================] - 218s 2s/step - loss: 0.1039 - acc: 0.9564 - val_loss: 0.3640 - val_acc: 0.7500\n",
      "Epoch 8/20\n",
      "100/100 [==============================] - 221s 2s/step - loss: 0.0976 - acc: 0.9655 - val_loss: 0.7816 - val_acc: 0.6250\n",
      "Epoch 9/20\n",
      "100/100 [==============================] - 218s 2s/step - loss: 0.0736 - acc: 0.9709 - val_loss: 0.1218 - val_acc: 1.0000\n",
      "Epoch 10/20\n",
      "100/100 [==============================] - 214s 2s/step - loss: 0.0871 - acc: 0.9690 - val_loss: 1.1108 - val_acc: 0.6250\n",
      "Epoch 11/20\n",
      "100/100 [==============================] - 212s 2s/step - loss: 0.0679 - acc: 0.9760 - val_loss: 0.1289 - val_acc: 0.9375\n",
      "Epoch 12/20\n",
      "100/100 [==============================] - 211s 2s/step - loss: 0.0566 - acc: 0.9810 - val_loss: 0.3247 - val_acc: 0.8125\n",
      "Epoch 13/20\n",
      "100/100 [==============================] - 212s 2s/step - loss: 0.0676 - acc: 0.9750 - val_loss: 0.2679 - val_acc: 0.8750\n",
      "Epoch 14/20\n",
      "100/100 [==============================] - 211s 2s/step - loss: 0.0463 - acc: 0.9835 - val_loss: 0.8659 - val_acc: 0.6250\n",
      "Epoch 15/20\n",
      "100/100 [==============================] - 211s 2s/step - loss: 0.0424 - acc: 0.9840 - val_loss: 0.5069 - val_acc: 0.6875\n",
      "Epoch 16/20\n",
      "100/100 [==============================] - 218s 2s/step - loss: 0.0374 - acc: 0.9870 - val_loss: 0.5132 - val_acc: 0.6250\n",
      "Epoch 17/20\n",
      "100/100 [==============================] - 216s 2s/step - loss: 0.0290 - acc: 0.9920 - val_loss: 0.3354 - val_acc: 0.7500\n",
      "Epoch 18/20\n",
      "100/100 [==============================] - 215s 2s/step - loss: 0.0393 - acc: 0.9895 - val_loss: 0.1465 - val_acc: 0.9375\n",
      "Epoch 19/20\n",
      "100/100 [==============================] - 214s 2s/step - loss: 0.0318 - acc: 0.9895 - val_loss: 0.1284 - val_acc: 0.9375\n",
      "Epoch 20/20\n",
      "100/100 [==============================] - 216s 2s/step - loss: 0.0257 - acc: 0.9925 - val_loss: 0.0194 - val_acc: 1.0000\n"
     ]
    }
   ],
   "source": [
    "history = model.fit_generator(\n",
    "      train_generator,\n",
    "      steps_per_epoch=100,\n",
    "      epochs=20,\n",
    "      validation_data=validation_generator,\n",
    "      validation_steps=50)"
   ]
  },
  {
   "cell_type": "markdown",
   "metadata": {
    "colab_type": "text",
    "id": "ikxw-TwAyvLR"
   },
   "source": [
    "It is good practice to always save your models after training:"
   ]
  },
  {
   "cell_type": "code",
   "execution_count": 44,
   "metadata": {
    "colab": {},
    "colab_type": "code",
    "id": "TuH9UnQFyvLS"
   },
   "outputs": [],
   "source": [
    "model.save('pneumonia-2.h5')"
   ]
  },
  {
   "cell_type": "markdown",
   "metadata": {
    "colab_type": "text",
    "id": "sTBr-fRPyvLq"
   },
   "source": [
    "Let's plot the loss and accuracy of the model over the training and validation data during training:"
   ]
  },
  {
   "cell_type": "markdown",
   "metadata": {},
   "source": [
    "Tras entrenar con una red muy compleja se obtienen estos resultdos en los que observamos un sobre entrenamiento y una precisión bastante mala"
   ]
  },
  {
   "cell_type": "code",
   "execution_count": 45,
   "metadata": {
    "colab": {},
    "colab_type": "code",
    "id": "H2-Ysz0HyvLs",
    "outputId": "dc691831-70ab-498d-d3ad-86b84cd0bac1"
   },
   "outputs": [
    {
     "data": {
      "image/png": "[encoded data removed]",
      "text/plain": [
       "<Figure size 432x288 with 1 Axes>"
      ]
     },
     "metadata": {
      "needs_background": "light"
     },
     "output_type": "display_data"
    },
    {
     "data": {
      "image/png": "[encoded data removed]",
      "text/plain": [
       "<Figure size 432x288 with 1 Axes>"
      ]
     },
     "metadata": {
      "needs_background": "light"
     },
     "output_type": "display_data"
    }
   ],
   "source": [
    "%matplotlib inline\n",
    "import matplotlib.pyplot as plt\n",
    "\n",
    "acc = history.history['acc']\n",
    "val_acc = history.history['val_acc']\n",
    "loss = history.history['loss']\n",
    "val_loss = history.history['val_loss']\n",
    "\n",
    "epochs = range(len(acc))\n",
    "\n",
    "plt.plot(epochs, acc, 'bo', label='Training acc')\n",
    "plt.plot(epochs, val_acc, 'b', label='Validation acc')\n",
    "plt.title('Training and validation accuracy')\n",
    "plt.legend()\n",
    "\n",
    "plt.figure()\n",
    "\n",
    "plt.plot(epochs, loss, 'bo', label='Training loss')\n",
    "plt.plot(epochs, val_loss, 'b', label='Validation loss')\n",
    "plt.title('Training and validation loss')\n",
    "plt.legend()\n",
    "\n",
    "plt.show()"
   ]
  }
 ],
 "metadata": {
  "colab": {
   "collapsed_sections": [],
   "name": "7_8_IMAGE_SmallDatabases_Data_Augmentation.ipynb",
   "provenance": []
  },
  "kernelspec": {
   "display_name": "Python 3",
   "language": "python",
   "name": "python3"
  },
  "language_info": {
   "codemirror_mode": {
    "name": "ipython",
    "version": 3
   },
   "file_extension": ".py",
   "mimetype": "text/x-python",
   "name": "python",
   "nbconvert_exporter": "python",
   "pygments_lexer": "ipython3",
   "version": "3.7.4"
  }
 },
 "nbformat": 4,
 "nbformat_minor": 4
}
